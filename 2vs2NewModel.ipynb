{
 "cells": [
  {
   "cell_type": "code",
   "execution_count": 15,
   "metadata": {},
   "outputs": [],
   "source": [
    "import numpy as np\n",
    "\n",
    "def optimal_in_one_vs_many(gamma, a, b):\n",
    "    prob_win_a = 1 / np.prod(1 + (gamma**(-np.arange(len(b)))) * np.sort(b) / a)\n",
    "    return prob_win_a"
   ]
  },
  {
   "cell_type": "code",
   "execution_count": 8,
   "metadata": {},
   "outputs": [
    {
     "data": {
      "text/plain": [
       "(7.91014080050625e-05, array([1, 0, 2]))"
      ]
     },
     "execution_count": 8,
     "metadata": {},
     "output_type": "execute_result"
    }
   ],
   "source": [
    "optimal_in_one_vs_many(0.1, 1, np.array([2, 1, 3]))"
   ]
  },
  {
   "cell_type": "code",
   "execution_count": 9,
   "metadata": {},
   "outputs": [],
   "source": [
    "import itertools as it\n",
    "\n",
    "def cartesian_product(*arrays):\n",
    "    return np.array(list(it.product(*arrays)))"
   ]
  },
  {
   "cell_type": "code",
   "execution_count": 21,
   "metadata": {},
   "outputs": [],
   "source": [
    "def optimal_strategy_in_2_vs_2(gamma, a, b):\n",
    "    assert len(a) == len(b) == 2, \"Wrong shapes\"\n",
    "    \n",
    "    p_max = 0\n",
    "    a_max, b_max = None, None\n",
    "    for c_0, d_0 in cartesian_product(np.array([0, 1]), np.array([0, 1])):\n",
    "        c = np.array([c_0, 1-c_0])\n",
    "        d = np.array([d_0, 1-d_0])\n",
    "        p = a[c[0]] * (1 - optimal_in_one_vs_many(gamma, b[d[1]],\n",
    "                                                  np.array([gamma * a[c[0]], a[c[1]]]))) \\\n",
    "                    / (a[c[0]] + b[d[0]]) + \\\n",
    "            b[d[0]] * optimal_in_one_vs_many(gamma, a[c[1]],\n",
    "                                             np.array([gamma * b[d[0]], b[d[1]]])) \\\n",
    "                    / (a[c[0]] + b[d[0]])\n",
    "        if p > p_max:\n",
    "            p_max = p\n",
    "            a_max, b_max = c, d\n",
    "    return p_max, a_max, b_max"
   ]
  },
  {
   "cell_type": "code",
   "execution_count": 37,
   "metadata": {},
   "outputs": [
    {
     "data": {
      "text/plain": [
       "(0.7644444444444444, array([1, 0]), array([0, 1]))"
      ]
     },
     "execution_count": 37,
     "metadata": {},
     "output_type": "execute_result"
    }
   ],
   "source": [
    "optimal_strategy_in_2_vs_2(0.5, np.array([1, 4]), \n",
    "                           np.array([1, 1]))"
   ]
  },
  {
   "cell_type": "code",
   "execution_count": null,
   "metadata": {},
   "outputs": [],
   "source": []
  }
 ],
 "metadata": {
  "kernelspec": {
   "display_name": "Python 3",
   "language": "python",
   "name": "python3"
  },
  "language_info": {
   "codemirror_mode": {
    "name": "ipython",
    "version": 3
   },
   "file_extension": ".py",
   "mimetype": "text/x-python",
   "name": "python",
   "nbconvert_exporter": "python",
   "pygments_lexer": "ipython3",
   "version": "3.6.9"
  }
 },
 "nbformat": 4,
 "nbformat_minor": 2
}
