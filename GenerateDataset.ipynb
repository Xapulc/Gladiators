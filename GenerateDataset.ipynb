{
 "cells": [
  {
   "cell_type": "code",
   "execution_count": 4,
   "metadata": {
    "collapsed": true
   },
   "outputs": [],
   "source": [
    "\n",
    "import numpy as np\n",
    "import pandas as pd\n",
    "import matplotlib.pyplot as plt\n",
    "import math\n",
    "import os\n",
    "import subprocess\n",
    "import time"
   ]
  },
  {
   "cell_type": "code",
   "execution_count": 100,
   "outputs": [],
   "source": [
    "# !g++ get_prob_win.cpp -o get_prob_win\n",
    "!g++ get_prob_win_decay.cpp -o get_prob_win"
   ],
   "metadata": {
    "collapsed": false,
    "pycharm": {
     "name": "#%%\n"
    }
   }
  },
  {
   "cell_type": "code",
   "execution_count": 123,
   "outputs": [
    {
     "data": {
      "text/plain": "    1    2    3    4    5\n1  55  110  124  126  122\n2  21   82  103  109  109\n3  15   79  103  112  114\n4  17   83  108  119  123\n5  24   90  116  128  134",
      "text/html": "<div>\n<style scoped>\n    .dataframe tbody tr th:only-of-type {\n        vertical-align: middle;\n    }\n\n    .dataframe tbody tr th {\n        vertical-align: top;\n    }\n\n    .dataframe thead th {\n        text-align: right;\n    }\n</style>\n<table border=\"1\" class=\"dataframe\">\n  <thead>\n    <tr style=\"text-align: right;\">\n      <th></th>\n      <th>1</th>\n      <th>2</th>\n      <th>3</th>\n      <th>4</th>\n      <th>5</th>\n    </tr>\n  </thead>\n  <tbody>\n    <tr>\n      <th>1</th>\n      <td>55</td>\n      <td>110</td>\n      <td>124</td>\n      <td>126</td>\n      <td>122</td>\n    </tr>\n    <tr>\n      <th>2</th>\n      <td>21</td>\n      <td>82</td>\n      <td>103</td>\n      <td>109</td>\n      <td>109</td>\n    </tr>\n    <tr>\n      <th>3</th>\n      <td>15</td>\n      <td>79</td>\n      <td>103</td>\n      <td>112</td>\n      <td>114</td>\n    </tr>\n    <tr>\n      <th>4</th>\n      <td>17</td>\n      <td>83</td>\n      <td>108</td>\n      <td>119</td>\n      <td>123</td>\n    </tr>\n    <tr>\n      <th>5</th>\n      <td>24</td>\n      <td>90</td>\n      <td>116</td>\n      <td>128</td>\n      <td>134</td>\n    </tr>\n  </tbody>\n</table>\n</div>"
     },
     "execution_count": 123,
     "metadata": {},
     "output_type": "execute_result"
    }
   ],
   "source": [
    "c = 0.8\n",
    "decay_rate = 1.08\n",
    "res = {}\n",
    "\n",
    "for m in range(1, 6):\n",
    "    res[m] = {}\n",
    "    for n in range(1, 6):\n",
    "        out = subprocess.check_output(f\"./get_prob_win {1/m} {m} {c/n} {n} {decay_rate}\",\n",
    "                                      shell=True)\n",
    "        res[m][n] = 1000*(float(out.decode().split(\"\\n\")[-2].split(\" \")[-1])\n",
    "                          - 0.5)\n",
    "data = pd.DataFrame(data=res).astype(int)\n",
    "data"
   ],
   "metadata": {
    "collapsed": false,
    "pycharm": {
     "name": "#%%\n"
    }
   }
  },
  {
   "cell_type": "code",
   "execution_count": 125,
   "outputs": [],
   "source": [
    "data.to_excel(\"data.xlsx\")"
   ],
   "metadata": {
    "collapsed": false,
    "pycharm": {
     "name": "#%%\n"
    }
   }
  },
  {
   "cell_type": "code",
   "execution_count": null,
   "outputs": [],
   "source": [
    "\n"
   ],
   "metadata": {
    "collapsed": false,
    "pycharm": {
     "name": "#%%\n"
    }
   }
  }
 ],
 "metadata": {
  "kernelspec": {
   "display_name": "Python 3",
   "language": "python",
   "name": "python3"
  },
  "language_info": {
   "codemirror_mode": {
    "name": "ipython",
    "version": 2
   },
   "file_extension": ".py",
   "mimetype": "text/x-python",
   "name": "python",
   "nbconvert_exporter": "python",
   "pygments_lexer": "ipython2",
   "version": "2.7.6"
  }
 },
 "nbformat": 4,
 "nbformat_minor": 0
}